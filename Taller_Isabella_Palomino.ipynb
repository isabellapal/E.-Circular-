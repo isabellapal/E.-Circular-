{
  "nbformat": 4,
  "nbformat_minor": 0,
  "metadata": {
    "colab": {
      "name": "Taller. Isabella Palomino",
      "provenance": [],
      "collapsed_sections": [
        "XXGI5hQHwM1h"
      ]
    },
    "kernelspec": {
      "name": "python3",
      "display_name": "Python 3"
    },
    "language_info": {
      "name": "python"
    }
  },
  "cells": [
    {
      "cell_type": "markdown",
      "source": [
        "#Taller"
      ],
      "metadata": {
        "id": "D5YO1IaHpZ--"
      }
    },
    {
      "cell_type": "markdown",
      "source": [
        "##Primer punto"
      ],
      "metadata": {
        "id": "TgK4Q76PpyAu"
      }
    },
    {
      "cell_type": "code",
      "source": [
        "def datos():\n",
        "  primer_nombre = input(\"Escriba su primer nombre: \")\n",
        "  segundo_nombre = input(\"Escriba su segundo nombre: \")\n",
        "  primer_apellido = input(\"Escriba su primer apellido: \")\n",
        "  segundo_apellido = input(\"Escriba su segundo apellido: \")\n",
        "  edad = int(input(\"Escriba su edad: \"))\n",
        "  direccion = input(\"Escriba su dirección: \")\n",
        "  return f\"Su primer nombre es {primer_nombre}, su segundo nombre es {segundo_nombre}, su primer apellido es {primer_apellido}, su segundo apellido es {segundo_apellido}, usted tiene {edad} años, su dirección de residencia es {direccion} \""
      ],
      "metadata": {
        "id": "JubBHvT_plFU"
      },
      "execution_count": 27,
      "outputs": []
    },
    {
      "cell_type": "code",
      "source": [
        "datos()"
      ],
      "metadata": {
        "colab": {
          "base_uri": "https://localhost:8080/",
          "height": 164
        },
        "id": "58Dra5YJtnNW",
        "outputId": "ba76c250-3bd5-43d9-e957-6a37b2f4b75c"
      },
      "execution_count": 24,
      "outputs": [
        {
          "name": "stdout",
          "output_type": "stream",
          "text": [
            "Escriba su primer nombre: isabella\n",
            "Escriba su segundo nombre: g\n",
            "Escriba su primer apellido: palomio\n",
            "Escriba su segundo apellido: yepez\n",
            "Escriba su edad: 230\n",
            "Escriba su dirección: calle 5\n"
          ]
        },
        {
          "output_type": "execute_result",
          "data": {
            "text/plain": [
              "'Su primer nombre es isabella, su segundo nombre es g, su primer apellido es palomio, su segundo apellido es yepez, usted tiene 230 años, su dirección de residencia es calle 5 '"
            ],
            "application/vnd.google.colaboratory.intrinsic+json": {
              "type": "string"
            }
          },
          "metadata": {},
          "execution_count": 24
        }
      ]
    },
    {
      "cell_type": "markdown",
      "source": [
        "##Segundo punto"
      ],
      "metadata": {
        "id": "XXGI5hQHwM1h"
      }
    },
    {
      "cell_type": "code",
      "source": [
        "def saludo():\n",
        "  nombre = input(\"Escriba su nombre: \")\n",
        "  return f\"¡Hola {nombre}!\""
      ],
      "metadata": {
        "id": "u9URtmJltriW"
      },
      "execution_count": 33,
      "outputs": []
    },
    {
      "cell_type": "code",
      "source": [
        "saludo()"
      ],
      "metadata": {
        "colab": {
          "base_uri": "https://localhost:8080/",
          "height": 54
        },
        "id": "kxSRFg0XweT2",
        "outputId": "4268ddde-a6e8-4989-bb4c-0e3e24a4b3f7"
      },
      "execution_count": 34,
      "outputs": [
        {
          "name": "stdout",
          "output_type": "stream",
          "text": [
            "Escriba su nombre: Isabella\n"
          ]
        },
        {
          "output_type": "execute_result",
          "data": {
            "text/plain": [
              "'¡Hola Isabella!'"
            ],
            "application/vnd.google.colaboratory.intrinsic+json": {
              "type": "string"
            }
          },
          "metadata": {},
          "execution_count": 34
        }
      ]
    },
    {
      "cell_type": "markdown",
      "source": [
        "##Tercer punto"
      ],
      "metadata": {
        "id": "QG_LYd--xAAU"
      }
    },
    {
      "cell_type": "code",
      "source": [
        "def cuadrado():\n",
        "  lado = int(input(\"Escriba el lado del cuadrado: \"))\n",
        "  area = lado * lado\n",
        "  return f\"El área del cuadrado es {area}\""
      ],
      "metadata": {
        "id": "BEcitVvmwtN_"
      },
      "execution_count": 41,
      "outputs": []
    },
    {
      "cell_type": "code",
      "source": [
        "cuadrado()"
      ],
      "metadata": {
        "colab": {
          "base_uri": "https://localhost:8080/",
          "height": 54
        },
        "id": "42rPv1Vex84u",
        "outputId": "751d480e-17af-4646-993e-68a1e1af1f29"
      },
      "execution_count": 42,
      "outputs": [
        {
          "name": "stdout",
          "output_type": "stream",
          "text": [
            "Escriba el lado del cuadrado: 20\n"
          ]
        },
        {
          "output_type": "execute_result",
          "data": {
            "text/plain": [
              "'El área del cuadrado es 400'"
            ],
            "application/vnd.google.colaboratory.intrinsic+json": {
              "type": "string"
            }
          },
          "metadata": {},
          "execution_count": 42
        }
      ]
    },
    {
      "cell_type": "markdown",
      "source": [
        "##Cuarto punto"
      ],
      "metadata": {
        "id": "1T8kUbZ0yFH5"
      }
    },
    {
      "cell_type": "code",
      "source": [
        "def rectangulo():\n",
        "  base = int(input(\"Escriba la base del rectángulo: \"))\n",
        "  altura = int(input(\"Escriba la altura del rectángulo: \"))\n",
        "  area = base * altura\n",
        "  return f\"El área del rectángulo es {area}\""
      ],
      "metadata": {
        "id": "eixlbrGWy-Ym"
      },
      "execution_count": 43,
      "outputs": []
    },
    {
      "cell_type": "code",
      "source": [
        "rectangulo()"
      ],
      "metadata": {
        "colab": {
          "base_uri": "https://localhost:8080/",
          "height": 72
        },
        "id": "zyYvZnTpzcKY",
        "outputId": "9fdd29cb-b581-4e83-aabc-e415d72ff9f9"
      },
      "execution_count": 44,
      "outputs": [
        {
          "name": "stdout",
          "output_type": "stream",
          "text": [
            "Escriba la base del rectángulo: 80\n",
            "Escriba la altura del rectángulo: 13\n"
          ]
        },
        {
          "output_type": "execute_result",
          "data": {
            "text/plain": [
              "'El área del rectángulo es 1040'"
            ],
            "application/vnd.google.colaboratory.intrinsic+json": {
              "type": "string"
            }
          },
          "metadata": {},
          "execution_count": 44
        }
      ]
    },
    {
      "cell_type": "markdown",
      "source": [
        "##Quinto punto"
      ],
      "metadata": {
        "id": "Gx6awpFBzjqK"
      }
    },
    {
      "cell_type": "code",
      "source": [
        "def triangulo ():\n",
        "  base = int(input(\"Escriba la base del triángulo: \"))\n",
        "  altura = int(input(\"Escriba la altura del triángulo: \"))\n",
        "  area = int((base * altura)/2)\n",
        "  return f\"El área del triángulo es {area}\""
      ],
      "metadata": {
        "id": "LLIMTIm7zeU3"
      },
      "execution_count": 50,
      "outputs": []
    },
    {
      "cell_type": "code",
      "source": [
        "triangulo()"
      ],
      "metadata": {
        "colab": {
          "base_uri": "https://localhost:8080/",
          "height": 72
        },
        "id": "UlViBujw0Uqn",
        "outputId": "6ca643f8-4a64-4ade-c6d0-08375eaa4387"
      },
      "execution_count": 51,
      "outputs": [
        {
          "name": "stdout",
          "output_type": "stream",
          "text": [
            "Escriba la base del triángulo: 40\n",
            "Escriba la altura del triángulo: 20\n"
          ]
        },
        {
          "output_type": "execute_result",
          "data": {
            "text/plain": [
              "'El área del triángulo es 400'"
            ],
            "application/vnd.google.colaboratory.intrinsic+json": {
              "type": "string"
            }
          },
          "metadata": {},
          "execution_count": 51
        }
      ]
    },
    {
      "cell_type": "markdown",
      "source": [
        "##Sexto punto"
      ],
      "metadata": {
        "id": "ddYpMZr91cgC"
      }
    },
    {
      "cell_type": "code",
      "source": [
        "def botellas():\n",
        "  cantidad = float(input(\"Escriba la cantidad de botellas capacidad que desea reciclar: \"))\n",
        "  litro =\n",
        "  if litro == 1:\n",
        "    print(\"Por una botella de 1L usted recibe un pago de 1000 pesos\")\n",
        "  elif litro == 1.5:\n",
        "    print(\"Por una botella de 1.5L usted recibe un pago de 2000 pesos\")\n",
        "  elif litro == 2:\n",
        "    print(\"Por una botella de 2L usted recibe un pago por 3000 pesos\")  "
      ],
      "metadata": {
        "id": "4GjnUbDx1fP2"
      },
      "execution_count": 72,
      "outputs": []
    },
    {
      "cell_type": "code",
      "source": [
        "botellas()"
      ],
      "metadata": {
        "colab": {
          "base_uri": "https://localhost:8080/"
        },
        "id": "jXE1mD4B4qz3",
        "outputId": "c326d677-49f7-4d24-d55c-daab1ad52df9"
      },
      "execution_count": 73,
      "outputs": [
        {
          "output_type": "stream",
          "name": "stdout",
          "text": [
            "Escriba la capacidad (en litros) de la botella que desea reciclar: 1.5\n",
            "Por una botella de 1.5L usted recibe un pago de 2000 pesos\n"
          ]
        }
      ]
    },
    {
      "cell_type": "markdown",
      "source": [
        "##Séptimo punto"
      ],
      "metadata": {
        "id": "wnqWzbYj5WWR"
      }
    },
    {
      "cell_type": "code",
      "source": [
        "def total():\n",
        "  comida = int(input(\"Escriba el costo de su comida: \"))\n",
        "  propina = int(input(\"Escriba el valor de la propina: \"))\n",
        "  impuesto = (comida*0.08) \n",
        "  total = comida + propina + impuesto\n",
        "  return f\"El valor total a pagar es de {total} pesos\""
      ],
      "metadata": {
        "id": "7xgmULIX5cTQ"
      },
      "execution_count": 79,
      "outputs": []
    },
    {
      "cell_type": "code",
      "source": [
        "total()"
      ],
      "metadata": {
        "colab": {
          "base_uri": "https://localhost:8080/",
          "height": 72
        },
        "id": "Nwx5R3Pi6w0f",
        "outputId": "2d5aee3a-9959-4dcd-aa2d-205ee7c48431"
      },
      "execution_count": 80,
      "outputs": [
        {
          "name": "stdout",
          "output_type": "stream",
          "text": [
            "Escriba el costo de su comida: 50000\n",
            "Escriba el valor de la propina: 8000\n"
          ]
        },
        {
          "output_type": "execute_result",
          "data": {
            "text/plain": [
              "'El valor total a pagar es de 62000.0 pesos'"
            ],
            "application/vnd.google.colaboratory.intrinsic+json": {
              "type": "string"
            }
          },
          "metadata": {},
          "execution_count": 80
        }
      ]
    },
    {
      "cell_type": "markdown",
      "source": [
        "##Octavo punto"
      ],
      "metadata": {
        "id": "3scdTxfx7tfw"
      }
    },
    {
      "cell_type": "code",
      "source": [
        "def productos():\n",
        "  A = int(input(\"Indique cuántas unidades desea del producto A: \"))\n",
        "  B = int(input(\"Indique cuántas unidades desea del producto B: \"))\n",
        "  if A % 2 ==0"
      ],
      "metadata": {
        "id": "C3nrGnhn7Ksn"
      },
      "execution_count": null,
      "outputs": []
    }
  ]
}