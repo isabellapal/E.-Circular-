{
  "nbformat": 4,
  "nbformat_minor": 0,
  "metadata": {
    "colab": {
      "name": "Trabajo final. Isabella Palomino",
      "provenance": [],
      "collapsed_sections": [],
      "authorship_tag": "ABX9TyPLsQkJvsDbERysBaPqftXS"
    },
    "kernelspec": {
      "name": "python3",
      "display_name": "Python 3"
    },
    "language_info": {
      "name": "python"
    }
  },
  "cells": [
    {
      "cell_type": "markdown",
      "source": [
        "##Trabajo final"
      ],
      "metadata": {
        "id": "7wf-7kXzWowr"
      }
    },
    {
      "cell_type": "markdown",
      "source": [
        "###Isabella Palomino Yepez"
      ],
      "metadata": {
        "id": "ST06bTrsWrbw"
      }
    },
    {
      "cell_type": "code",
      "execution_count": null,
      "metadata": {
        "colab": {
          "base_uri": "https://localhost:8080/"
        },
        "id": "jG3i_v1aV-NA",
        "outputId": "1f15a088-ebc2-422a-aa61-824d580ce47a"
      },
      "outputs": [
        {
          "output_type": "stream",
          "name": "stderr",
          "text": [
            "/usr/local/lib/python3.7/dist-packages/statsmodels/tools/_testing.py:19: FutureWarning: pandas.util.testing is deprecated. Use the functions in the public API at pandas.testing instead.\n",
            "  import pandas.util.testing as tm\n"
          ]
        }
      ],
      "source": [
        "import pandas as pd\n",
        "import numpy as np\n",
        "import matplotlib.pyplot as plt\n",
        "import seaborn as sns\n",
        "\n",
        "import statsmodels.api as sm           \n",
        "import statsmodels.formula.api as smf"
      ]
    },
    {
      "cell_type": "code",
      "source": [
        "df = pd.read_csv('recdemand.csv')\n",
        "df"
      ],
      "metadata": {
        "colab": {
          "base_uri": "https://localhost:8080/",
          "height": 423
        },
        "id": "jmVALh3YWznL",
        "outputId": "b1d1901c-b782-4f85-8416-17f6387cf54a"
      },
      "execution_count": null,
      "outputs": [
        {
          "output_type": "execute_result",
          "data": {
            "text/plain": [
              "     trips  quality  ski  income userfee  costC   costS   costH\n",
              "0        0        0  yes       4      no  67.59  68.620  76.800\n",
              "1        0        0   no       9      no  68.86  70.936  84.780\n",
              "2        0        0  yes       5      no  58.12  59.465  72.110\n",
              "3        0        0   no       2      no  15.79  13.750  23.680\n",
              "4        0        0  yes       3      no  24.02  34.033  34.547\n",
              "..     ...      ...  ...     ...     ...    ...     ...     ...\n",
              "654     40        5  yes       5     yes  25.63  18.916  29.684\n",
              "655     40        3  yes       3      no  18.46  13.330  25.800\n",
              "656     40        2  yes       4      no  58.84  47.000  62.760\n",
              "657     50        4  yes       4      no  35.67  25.694  37.269\n",
              "658     88        2   no       2      no  22.49   6.210  25.460\n",
              "\n",
              "[659 rows x 8 columns]"
            ],
            "text/html": [
              "\n",
              "  <div id=\"df-1bf7549a-1ec6-4a89-aede-6609010fbe38\">\n",
              "    <div class=\"colab-df-container\">\n",
              "      <div>\n",
              "<style scoped>\n",
              "    .dataframe tbody tr th:only-of-type {\n",
              "        vertical-align: middle;\n",
              "    }\n",
              "\n",
              "    .dataframe tbody tr th {\n",
              "        vertical-align: top;\n",
              "    }\n",
              "\n",
              "    .dataframe thead th {\n",
              "        text-align: right;\n",
              "    }\n",
              "</style>\n",
              "<table border=\"1\" class=\"dataframe\">\n",
              "  <thead>\n",
              "    <tr style=\"text-align: right;\">\n",
              "      <th></th>\n",
              "      <th>trips</th>\n",
              "      <th>quality</th>\n",
              "      <th>ski</th>\n",
              "      <th>income</th>\n",
              "      <th>userfee</th>\n",
              "      <th>costC</th>\n",
              "      <th>costS</th>\n",
              "      <th>costH</th>\n",
              "    </tr>\n",
              "  </thead>\n",
              "  <tbody>\n",
              "    <tr>\n",
              "      <th>0</th>\n",
              "      <td>0</td>\n",
              "      <td>0</td>\n",
              "      <td>yes</td>\n",
              "      <td>4</td>\n",
              "      <td>no</td>\n",
              "      <td>67.59</td>\n",
              "      <td>68.620</td>\n",
              "      <td>76.800</td>\n",
              "    </tr>\n",
              "    <tr>\n",
              "      <th>1</th>\n",
              "      <td>0</td>\n",
              "      <td>0</td>\n",
              "      <td>no</td>\n",
              "      <td>9</td>\n",
              "      <td>no</td>\n",
              "      <td>68.86</td>\n",
              "      <td>70.936</td>\n",
              "      <td>84.780</td>\n",
              "    </tr>\n",
              "    <tr>\n",
              "      <th>2</th>\n",
              "      <td>0</td>\n",
              "      <td>0</td>\n",
              "      <td>yes</td>\n",
              "      <td>5</td>\n",
              "      <td>no</td>\n",
              "      <td>58.12</td>\n",
              "      <td>59.465</td>\n",
              "      <td>72.110</td>\n",
              "    </tr>\n",
              "    <tr>\n",
              "      <th>3</th>\n",
              "      <td>0</td>\n",
              "      <td>0</td>\n",
              "      <td>no</td>\n",
              "      <td>2</td>\n",
              "      <td>no</td>\n",
              "      <td>15.79</td>\n",
              "      <td>13.750</td>\n",
              "      <td>23.680</td>\n",
              "    </tr>\n",
              "    <tr>\n",
              "      <th>4</th>\n",
              "      <td>0</td>\n",
              "      <td>0</td>\n",
              "      <td>yes</td>\n",
              "      <td>3</td>\n",
              "      <td>no</td>\n",
              "      <td>24.02</td>\n",
              "      <td>34.033</td>\n",
              "      <td>34.547</td>\n",
              "    </tr>\n",
              "    <tr>\n",
              "      <th>...</th>\n",
              "      <td>...</td>\n",
              "      <td>...</td>\n",
              "      <td>...</td>\n",
              "      <td>...</td>\n",
              "      <td>...</td>\n",
              "      <td>...</td>\n",
              "      <td>...</td>\n",
              "      <td>...</td>\n",
              "    </tr>\n",
              "    <tr>\n",
              "      <th>654</th>\n",
              "      <td>40</td>\n",
              "      <td>5</td>\n",
              "      <td>yes</td>\n",
              "      <td>5</td>\n",
              "      <td>yes</td>\n",
              "      <td>25.63</td>\n",
              "      <td>18.916</td>\n",
              "      <td>29.684</td>\n",
              "    </tr>\n",
              "    <tr>\n",
              "      <th>655</th>\n",
              "      <td>40</td>\n",
              "      <td>3</td>\n",
              "      <td>yes</td>\n",
              "      <td>3</td>\n",
              "      <td>no</td>\n",
              "      <td>18.46</td>\n",
              "      <td>13.330</td>\n",
              "      <td>25.800</td>\n",
              "    </tr>\n",
              "    <tr>\n",
              "      <th>656</th>\n",
              "      <td>40</td>\n",
              "      <td>2</td>\n",
              "      <td>yes</td>\n",
              "      <td>4</td>\n",
              "      <td>no</td>\n",
              "      <td>58.84</td>\n",
              "      <td>47.000</td>\n",
              "      <td>62.760</td>\n",
              "    </tr>\n",
              "    <tr>\n",
              "      <th>657</th>\n",
              "      <td>50</td>\n",
              "      <td>4</td>\n",
              "      <td>yes</td>\n",
              "      <td>4</td>\n",
              "      <td>no</td>\n",
              "      <td>35.67</td>\n",
              "      <td>25.694</td>\n",
              "      <td>37.269</td>\n",
              "    </tr>\n",
              "    <tr>\n",
              "      <th>658</th>\n",
              "      <td>88</td>\n",
              "      <td>2</td>\n",
              "      <td>no</td>\n",
              "      <td>2</td>\n",
              "      <td>no</td>\n",
              "      <td>22.49</td>\n",
              "      <td>6.210</td>\n",
              "      <td>25.460</td>\n",
              "    </tr>\n",
              "  </tbody>\n",
              "</table>\n",
              "<p>659 rows × 8 columns</p>\n",
              "</div>\n",
              "      <button class=\"colab-df-convert\" onclick=\"convertToInteractive('df-1bf7549a-1ec6-4a89-aede-6609010fbe38')\"\n",
              "              title=\"Convert this dataframe to an interactive table.\"\n",
              "              style=\"display:none;\">\n",
              "        \n",
              "  <svg xmlns=\"http://www.w3.org/2000/svg\" height=\"24px\"viewBox=\"0 0 24 24\"\n",
              "       width=\"24px\">\n",
              "    <path d=\"M0 0h24v24H0V0z\" fill=\"none\"/>\n",
              "    <path d=\"M18.56 5.44l.94 2.06.94-2.06 2.06-.94-2.06-.94-.94-2.06-.94 2.06-2.06.94zm-11 1L8.5 8.5l.94-2.06 2.06-.94-2.06-.94L8.5 2.5l-.94 2.06-2.06.94zm10 10l.94 2.06.94-2.06 2.06-.94-2.06-.94-.94-2.06-.94 2.06-2.06.94z\"/><path d=\"M17.41 7.96l-1.37-1.37c-.4-.4-.92-.59-1.43-.59-.52 0-1.04.2-1.43.59L10.3 9.45l-7.72 7.72c-.78.78-.78 2.05 0 2.83L4 21.41c.39.39.9.59 1.41.59.51 0 1.02-.2 1.41-.59l7.78-7.78 2.81-2.81c.8-.78.8-2.07 0-2.86zM5.41 20L4 18.59l7.72-7.72 1.47 1.35L5.41 20z\"/>\n",
              "  </svg>\n",
              "      </button>\n",
              "      \n",
              "  <style>\n",
              "    .colab-df-container {\n",
              "      display:flex;\n",
              "      flex-wrap:wrap;\n",
              "      gap: 12px;\n",
              "    }\n",
              "\n",
              "    .colab-df-convert {\n",
              "      background-color: #E8F0FE;\n",
              "      border: none;\n",
              "      border-radius: 50%;\n",
              "      cursor: pointer;\n",
              "      display: none;\n",
              "      fill: #1967D2;\n",
              "      height: 32px;\n",
              "      padding: 0 0 0 0;\n",
              "      width: 32px;\n",
              "    }\n",
              "\n",
              "    .colab-df-convert:hover {\n",
              "      background-color: #E2EBFA;\n",
              "      box-shadow: 0px 1px 2px rgba(60, 64, 67, 0.3), 0px 1px 3px 1px rgba(60, 64, 67, 0.15);\n",
              "      fill: #174EA6;\n",
              "    }\n",
              "\n",
              "    [theme=dark] .colab-df-convert {\n",
              "      background-color: #3B4455;\n",
              "      fill: #D2E3FC;\n",
              "    }\n",
              "\n",
              "    [theme=dark] .colab-df-convert:hover {\n",
              "      background-color: #434B5C;\n",
              "      box-shadow: 0px 1px 3px 1px rgba(0, 0, 0, 0.15);\n",
              "      filter: drop-shadow(0px 1px 2px rgba(0, 0, 0, 0.3));\n",
              "      fill: #FFFFFF;\n",
              "    }\n",
              "  </style>\n",
              "\n",
              "      <script>\n",
              "        const buttonEl =\n",
              "          document.querySelector('#df-1bf7549a-1ec6-4a89-aede-6609010fbe38 button.colab-df-convert');\n",
              "        buttonEl.style.display =\n",
              "          google.colab.kernel.accessAllowed ? 'block' : 'none';\n",
              "\n",
              "        async function convertToInteractive(key) {\n",
              "          const element = document.querySelector('#df-1bf7549a-1ec6-4a89-aede-6609010fbe38');\n",
              "          const dataTable =\n",
              "            await google.colab.kernel.invokeFunction('convertToInteractive',\n",
              "                                                     [key], {});\n",
              "          if (!dataTable) return;\n",
              "\n",
              "          const docLinkHtml = 'Like what you see? Visit the ' +\n",
              "            '<a target=\"_blank\" href=https://colab.research.google.com/notebooks/data_table.ipynb>data table notebook</a>'\n",
              "            + ' to learn more about interactive tables.';\n",
              "          element.innerHTML = '';\n",
              "          dataTable['output_type'] = 'display_data';\n",
              "          await google.colab.output.renderOutput(dataTable, element);\n",
              "          const docLink = document.createElement('div');\n",
              "          docLink.innerHTML = docLinkHtml;\n",
              "          element.appendChild(docLink);\n",
              "        }\n",
              "      </script>\n",
              "    </div>\n",
              "  </div>\n",
              "  "
            ]
          },
          "metadata": {},
          "execution_count": 2
        }
      ]
    },
    {
      "cell_type": "code",
      "source": [
        "reg = smf.ols('trips ~ quality + ski + income + userfee + costC + costS + costH', data = df)\n",
        "res = reg.fit()\n",
        "print(res.summary())"
      ],
      "metadata": {
        "colab": {
          "base_uri": "https://localhost:8080/"
        },
        "id": "IvlAy10RXAXp",
        "outputId": "d4871da6-9b9d-4a42-811a-96b2323c080e"
      },
      "execution_count": null,
      "outputs": [
        {
          "output_type": "stream",
          "name": "stdout",
          "text": [
            "                            OLS Regression Results                            \n",
            "==============================================================================\n",
            "Dep. Variable:                  trips   R-squared:                       0.279\n",
            "Model:                            OLS   Adj. R-squared:                  0.271\n",
            "Method:                 Least Squares   F-statistic:                     36.02\n",
            "Date:                Fri, 22 Apr 2022   Prob (F-statistic):           1.29e-42\n",
            "Time:                        13:07:09   Log-Likelihood:                -2038.8\n",
            "No. Observations:                 659   AIC:                             4094.\n",
            "Df Residuals:                     651   BIC:                             4130.\n",
            "Df Model:                           7                                         \n",
            "Covariance Type:            nonrobust                                         \n",
            "==================================================================================\n",
            "                     coef    std err          t      P>|t|      [0.025      0.975]\n",
            "----------------------------------------------------------------------------------\n",
            "Intercept          2.5615      0.572      4.479      0.000       1.439       3.685\n",
            "ski[T.yes]         0.9992      0.462      2.161      0.031       0.091       1.907\n",
            "userfee[T.yes]     8.2808      1.543      5.368      0.000       5.251      11.310\n",
            "quality            0.9134      0.125      7.305      0.000       0.668       1.159\n",
            "income            -0.2071      0.119     -1.734      0.083      -0.442       0.027\n",
            "costC              0.0632      0.034      1.841      0.066      -0.004       0.131\n",
            "costS             -0.1645      0.023     -7.236      0.000      -0.209      -0.120\n",
            "costH              0.0895      0.028      3.177      0.002       0.034       0.145\n",
            "==============================================================================\n",
            "Omnibus:                      925.235   Durbin-Watson:                   0.378\n",
            "Prob(Omnibus):                  0.000   Jarque-Bera (JB):           238996.003\n",
            "Skew:                           7.395   Prob(JB):                         0.00\n",
            "Kurtosis:                      95.115   Cond. No.                         938.\n",
            "==============================================================================\n",
            "\n",
            "Warnings:\n",
            "[1] Standard Errors assume that the covariance matrix of the errors is correctly specified.\n"
          ]
        }
      ]
    },
    {
      "cell_type": "code",
      "source": [
        "#Extrayendo los β estimados\n",
        "res.params"
      ],
      "metadata": {
        "colab": {
          "base_uri": "https://localhost:8080/"
        },
        "id": "A72BbJ8gYd1g",
        "outputId": "10db5c06-fc22-4a6a-a6ad-a4b472614f25"
      },
      "execution_count": 11,
      "outputs": [
        {
          "output_type": "execute_result",
          "data": {
            "text/plain": [
              "Intercept         2.561541\n",
              "ski[T.yes]        0.999160\n",
              "userfee[T.yes]    8.280843\n",
              "quality           0.913428\n",
              "income           -0.207076\n",
              "costC             0.063151\n",
              "costS            -0.164493\n",
              "costH             0.089516\n",
              "dtype: float64"
            ]
          },
          "metadata": {},
          "execution_count": 11
        }
      ]
    },
    {
      "cell_type": "markdown",
      "source": [
        "###El modelo con todas las variables introducidas como predictores tiene un  R2  de (0.279), es capaz de explicar el 27.9% de la variabilidad observada en el número de viajes en bote realizados en el lago Somerville. De acuerdo con el p-valor obtenido para el coeficiente parcial de regresión de las variables, el ingreso anual en miles de dólares (income) no es una variable significativa dado que (p-value 0.083>0.05). Asimismo, otra variable que no es significativa es el costo de visitar el lago Conroe (costC) ya que (p-value 0.66>0.05)\n",
        "\n",
        "###Respecto a los β estimados, el coeficiente de la variable income (-0.207076) y de la variable costS(-0.164493), indican que ambas varibles disminuyen la probabilidad de viajar en bote en el lago Somerville. Por el contrario, aquellas variables con β estimados positivos como ski factor, income, userfee, costC y costH aumentan la propabilidad de viajar en bote en el lago Somerville."
      ],
      "metadata": {
        "id": "0MZqYmQSeZDO"
      }
    },
    {
      "cell_type": "code",
      "source": [
        ""
      ],
      "metadata": {
        "id": "JxcWthI5bIJN"
      },
      "execution_count": null,
      "outputs": []
    }
  ]
}